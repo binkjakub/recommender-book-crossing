{
 "cells": [
  {
   "cell_type": "code",
   "execution_count": null,
   "id": "whole-section",
   "metadata": {},
   "outputs": [],
   "source": [
    "import os\n",
    "import sys\n",
    "\n",
    "MAIN_MODULE_PATH = os.path.join(os.getcwd(), '..', '..')\n",
    "sys.path.append(MAIN_MODULE_PATH)"
   ]
  },
  {
   "cell_type": "code",
   "execution_count": null,
   "id": "behind-israeli",
   "metadata": {},
   "outputs": [],
   "source": [
    "from collections import Counter\n",
    "\n",
    "import numpy as np\n",
    "import scipy\n",
    "import pandas as pd\n",
    "import seaborn as sns\n",
    "import lightfm.data\n",
    "import lightfm.cross_validation\n",
    "import lightfm.evaluation\n",
    "\n",
    "from defaults import BOOK_RATINGS, BOOKS, USERS"
   ]
  },
  {
   "cell_type": "code",
   "execution_count": null,
   "id": "processed-skill",
   "metadata": {},
   "outputs": [],
   "source": [
    "RANDOM_STATE = 1234"
   ]
  },
  {
   "cell_type": "markdown",
   "id": "tutorial-portfolio",
   "metadata": {},
   "source": [
    "# Preparing data"
   ]
  },
  {
   "cell_type": "code",
   "execution_count": null,
   "id": "stable-academy",
   "metadata": {},
   "outputs": [],
   "source": [
    "def load_ratings(path=BOOK_RATINGS):\n",
    "    ratings = pd.read_csv(BOOK_RATINGS, sep=';')\n",
    "    ratings['Book-Rating'] = ratings['Book-Rating'].astype('int8')\n",
    "    return ratings\n",
    "\n",
    "def load_books(path=BOOKS):\n",
    "    books = pd.read_csv(path, sep=';', error_bad_lines=False, index_col='ISBN')    \n",
    "    books = books.loc[pd.to_numeric(books['Year-Of-Publication'], errors='coerce').dropna().index]\n",
    "    books['Year-Of-Publication'] = books['Year-Of-Publication'].astype(\"int8\")\n",
    "    return books\n",
    "\n",
    "def load_users(path=USERS):\n",
    "    return pd.read_csv(path, sep=';', index_col='User-ID')"
   ]
  },
  {
   "cell_type": "code",
   "execution_count": null,
   "id": "realistic-playlist",
   "metadata": {},
   "outputs": [],
   "source": [
    "MIN_BOOK_RATINGS = 20\n",
    "\n",
    "def preprocess_ratings(ratings: pd.DataFrame, books: pd.DataFrame, users: pd.DataFrame,\n",
    "                   min_book_ratings: int = MIN_BOOK_RATINGS):\n",
    "    books_ratings_joined = pd.merge(ratings, books, left_on='ISBN', right_index=True, how='left')\n",
    "    books['n_ratings'] = books_ratings_joined.groupby('ISBN')['Book-Rating'].size()\n",
    "    popular_books = books[books['n_ratings'] > min_book_ratings]\n",
    "    \n",
    "    ratings = pd.merge(popular_books, ratings, left_index=True, right_on='ISBN', how='left')\n",
    "    return ratings"
   ]
  },
  {
   "cell_type": "code",
   "execution_count": null,
   "id": "present-buffer",
   "metadata": {},
   "outputs": [],
   "source": [
    "ratings, books, users = load_ratings(), load_books(), load_users()"
   ]
  },
  {
   "cell_type": "code",
   "execution_count": null,
   "id": "demanding-indication",
   "metadata": {},
   "outputs": [],
   "source": [
    "len(ratings), len(books), len(users)"
   ]
  },
  {
   "cell_type": "code",
   "execution_count": null,
   "id": "forced-tonight",
   "metadata": {},
   "outputs": [],
   "source": [
    "ratings = preprocess_ratings(ratings, books, users)[['ISBN', 'User-ID', 'Book-Rating']]\n",
    "ratings.head()"
   ]
  },
  {
   "cell_type": "code",
   "execution_count": null,
   "id": "guilty-clause",
   "metadata": {},
   "outputs": [],
   "source": [
    "dataset = lightfm.data.Dataset()\n",
    "dataset.fit(ratings['ISBN'].unique(), ratings['User-ID'].unique())\n",
    "interactions, weights = dataset.build_interactions(ratings.itertuples(index=False))"
   ]
  },
  {
   "cell_type": "code",
   "execution_count": null,
   "id": "stunning-orchestra",
   "metadata": {},
   "outputs": [],
   "source": [
    "train, test = lightfm.cross_validation.random_train_test_split(interactions, test_percentage=0.2, random_state=RANDOM_STATE)"
   ]
  },
  {
   "cell_type": "code",
   "execution_count": null,
   "id": "challenging-leave",
   "metadata": {},
   "outputs": [],
   "source": [
    "model = lightfm.LightFM(no_components=10)\n",
    "fitted_model = model.fit(train, epochs=64, verbose=False)"
   ]
  },
  {
   "cell_type": "code",
   "execution_count": null,
   "id": "documentary-cache",
   "metadata": {},
   "outputs": [],
   "source": [
    "prec_per_user = lightfm.evaluation.precision_at_k(fitted_model, test_interactions=test, train_interactions=train, k=5)\n",
    "np.mean(prec_per_user)"
   ]
  },
  {
   "cell_type": "markdown",
   "id": "spectacular-bonus",
   "metadata": {},
   "source": [
    "# SVD surprise"
   ]
  },
  {
   "cell_type": "code",
   "execution_count": null,
   "id": "falling-coffee",
   "metadata": {},
   "outputs": [],
   "source": [
    "from surprise import SVD, SVDpp, NMF\n",
    "from surprise import Dataset, Reader\n",
    "from surprise.model_selection import cross_validate\n",
    "\n",
    "\n",
    "# Load the movielens-100k dataset (download it if needed),\n",
    "data = Dataset.load_from_df(ratings, Reader(rating_scale=(1, 10)))\n",
    "\n",
    "# We'll use the famous SVD algorithm.\n",
    "algo = SVDpp(n_factors= 40)\n",
    "\n",
    "# Run 5-fold cross-validation and print results\n",
    "cross_validate(algo, data, measures=['RMSE', 'MAE', 'fcp'], cv=5, n_jobs=10, verbose=True)"
   ]
  }
 ],
 "metadata": {
  "kernelspec": {
   "display_name": "recommendations",
   "language": "python",
   "name": "recommendations"
  },
  "language_info": {
   "codemirror_mode": {
    "name": "ipython",
    "version": 3
   },
   "file_extension": ".py",
   "mimetype": "text/x-python",
   "name": "python",
   "nbconvert_exporter": "python",
   "pygments_lexer": "ipython3",
   "version": "3.8.8"
  }
 },
 "nbformat": 4,
 "nbformat_minor": 5
}
