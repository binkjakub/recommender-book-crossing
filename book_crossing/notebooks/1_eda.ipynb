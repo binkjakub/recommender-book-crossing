{
 "cells": [
  {
   "cell_type": "code",
   "execution_count": null,
   "id": "pressing-dylan",
   "metadata": {},
   "outputs": [],
   "source": [
    "import os\n",
    "import sys\n",
    "\n",
    "MAIN_MODULE_PATH = os.path.join(os.getcwd(), '..', '..')\n",
    "sys.path.append(MAIN_MODULE_PATH)"
   ]
  },
  {
   "cell_type": "code",
   "execution_count": null,
   "id": "tracked-clothing",
   "metadata": {},
   "outputs": [],
   "source": [
    "from collections import Counter\n",
    "\n",
    "import pandas as pd\n",
    "import seaborn as sns\n",
    "\n",
    "from defaults import BOOK_RATINGS, BOOKS, USERS"
   ]
  },
  {
   "cell_type": "code",
   "execution_count": null,
   "id": "continuous-bowling",
   "metadata": {},
   "outputs": [],
   "source": [
    "ratings = pd.read_csv(BOOK_RATINGS, sep=';')\n",
    "books = pd.read_csv(BOOKS, sep=';', error_bad_lines=False, index_col='ISBN')\n",
    "users = pd.read_csv(USERS, sep=';', index_col='User-ID')\n",
    "\n",
    "books = books.loc[pd.to_numeric(books['Year-Of-Publication'], errors='coerce').dropna().index]\n",
    "books['Year-Of-Publication'] = books['Year-Of-Publication'].astype(int)"
   ]
  },
  {
   "cell_type": "code",
   "execution_count": null,
   "id": "naked-canal",
   "metadata": {},
   "outputs": [],
   "source": [
    "print(\"#ratings: \", len(ratings))\n",
    "print(\"#books: \", len(books))\n",
    "print(\"#users: \", len(users))"
   ]
  },
  {
   "cell_type": "markdown",
   "id": "located-cambridge",
   "metadata": {},
   "source": [
    "# Book ratings"
   ]
  },
  {
   "cell_type": "code",
   "execution_count": null,
   "id": "classical-intelligence",
   "metadata": {},
   "outputs": [],
   "source": [
    "ratings.head()"
   ]
  },
  {
   "cell_type": "code",
   "execution_count": null,
   "id": "bulgarian-medicare",
   "metadata": {},
   "outputs": [],
   "source": [
    "print(f\"Missing rating ratio: {(ratings['Book-Rating']==0).sum()/len(ratings) :0.3f}\")"
   ]
  },
  {
   "cell_type": "code",
   "execution_count": null,
   "id": "demographic-antigua",
   "metadata": {},
   "outputs": [],
   "source": [
    "ax = sns.histplot(data=ratings, x='Book-Rating', bins=10)\n",
    "ax.set_title(\"global histogram of rating\")"
   ]
  },
  {
   "cell_type": "markdown",
   "id": "ideal-compromise",
   "metadata": {},
   "source": [
    "# Books\n",
    "- book titles are duplicated (perhpas due to different edition), ISBN is unique"
   ]
  },
  {
   "cell_type": "code",
   "execution_count": null,
   "id": "material-retrieval",
   "metadata": {},
   "outputs": [],
   "source": [
    "books_ratings_joined = pd.merge(ratings, books, left_on='ISBN', right_on='ISBN', how='left')\n",
    "books['n_ratings'] = books_ratings_joined.groupby('ISBN')['Book-Rating'].size()\n",
    "books['avg_rating'] = books_ratings_joined.groupby('ISBN')['Book-Rating'].mean()\n",
    "books['n_ratings'].fillna(0, inplace=True)\n",
    "books['avg_rating'].fillna(0, inplace=True)"
   ]
  },
  {
   "cell_type": "code",
   "execution_count": null,
   "id": "finnish-occurrence",
   "metadata": {},
   "outputs": [],
   "source": [
    "books.head()"
   ]
  },
  {
   "cell_type": "code",
   "execution_count": null,
   "id": "conservative-evidence",
   "metadata": {},
   "outputs": [],
   "source": [
    "print(f\"#books: {len(books)}\")\n",
    "print(f\"#duplicated titles: {books['Book-Title'].duplicated().sum()}\")\n",
    "print(f\"#unique_authors: {books['Book-Author'].nunique()}\")\n",
    "print(f\"#year_of_pub_is_zero: {(books['Year-Of-Publication']==0).sum()}\")"
   ]
  },
  {
   "cell_type": "code",
   "execution_count": null,
   "id": "incorporated-ecuador",
   "metadata": {},
   "outputs": [],
   "source": [
    "print(f\"#books without a rating: {(books['n_ratings']==0).sum()}\")\n",
    "print(f\"#books with avg_rating zero: {(books['avg_rating']==0).sum()}\")\n",
    "print(f\"#books with avg_rating zero and user: {((books['avg_rating']==0) & (books['n_ratings']>0)).sum()}\")"
   ]
  },
  {
   "cell_type": "code",
   "execution_count": null,
   "id": "narrative-fleece",
   "metadata": {},
   "outputs": [],
   "source": [
    "ax = sns.histplot(data=books, x='avg_rating', bins=20)\n",
    "ax.set_title(\"Per book mean rating\")"
   ]
  },
  {
   "cell_type": "code",
   "execution_count": null,
   "id": "honey-champagne",
   "metadata": {},
   "outputs": [],
   "source": [
    "recent_books = books[(books['Year-Of-Publication']<2005) & (books['Year-Of-Publication']>1950)]\n",
    "sns.histplot(data=recent_books, x='Year-Of-Publication')"
   ]
  },
  {
   "cell_type": "markdown",
   "id": "wrong-settlement",
   "metadata": {},
   "source": [
    "# Users"
   ]
  },
  {
   "cell_type": "code",
   "execution_count": null,
   "id": "decent-tennessee",
   "metadata": {},
   "outputs": [],
   "source": [
    "users_ratings_joined = pd.merge(ratings, users, left_on='User-ID', right_index=True, how='left')\n",
    "users['country'] = users['Location'].str.split(',', expand=True)[2].str.strip()\n",
    "users['n_ratings'] = users_ratings_joined.groupby('User-ID').size()\n",
    "users['avg_rating'] = users_ratings_joined.groupby('User-ID').mean()\n",
    "users['n_ratings'].fillna(0, inplace=True)\n",
    "users['avg_rating'].fillna(0, inplace=True)\n",
    "users.head()"
   ]
  },
  {
   "cell_type": "code",
   "execution_count": null,
   "id": "simple-motorcycle",
   "metadata": {},
   "outputs": [],
   "source": [
    "print(f\"Missing age ratio:{users['Age'].isna().sum()/len(users) :0.3f}\")"
   ]
  },
  {
   "cell_type": "code",
   "execution_count": null,
   "id": "cubic-shape",
   "metadata": {},
   "outputs": [],
   "source": [
    "print(f\"#users without a book: {(users['n_ratings']==0).sum()}\")\n",
    "print(f\"#users with avg_rating zero: {(users['avg_rating']==0).sum()}\")\n",
    "print(f\"#users with avg_rating zero and book: {((users['avg_rating']==0) & (users['n_ratings']>0)).sum()}\")"
   ]
  },
  {
   "cell_type": "code",
   "execution_count": null,
   "id": "blessed-consistency",
   "metadata": {},
   "outputs": [],
   "source": [
    "print(\"Most common countries:\\n\", Counter(users['country']).most_common(10))"
   ]
  },
  {
   "cell_type": "code",
   "execution_count": null,
   "id": "expressed-laser",
   "metadata": {},
   "outputs": [],
   "source": [
    "sns.histplot(data=users, x='avg_rating', bins=20)"
   ]
  },
  {
   "cell_type": "code",
   "execution_count": null,
   "id": "bored-cleaner",
   "metadata": {},
   "outputs": [],
   "source": [
    "ax = sns.scatterplot(data=users, x='Age', y='avg_rating')"
   ]
  }
 ],
 "metadata": {
  "kernelspec": {
   "display_name": "recommendations",
   "language": "python",
   "name": "recommendations"
  },
  "language_info": {
   "codemirror_mode": {
    "name": "ipython",
    "version": 3
   },
   "file_extension": ".py",
   "mimetype": "text/x-python",
   "name": "python",
   "nbconvert_exporter": "python",
   "pygments_lexer": "ipython3",
   "version": "3.8.8"
  }
 },
 "nbformat": 4,
 "nbformat_minor": 5
}
