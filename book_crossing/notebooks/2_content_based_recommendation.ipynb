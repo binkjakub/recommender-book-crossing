{
 "cells": [
  {
   "cell_type": "code",
   "execution_count": null,
   "metadata": {},
   "outputs": [],
   "source": [
    "import os\n",
    "import sys\n",
    "\n",
    "MAIN_MODULE_PATH = os.path.join(os.getcwd(), '..', '..')\n",
    "sys.path.append(MAIN_MODULE_PATH)"
   ]
  },
  {
   "cell_type": "code",
   "execution_count": null,
   "metadata": {},
   "outputs": [],
   "source": [
    "from collections import Counter\n",
    "\n",
    "import numpy as np\n",
    "import pandas as pd\n",
    "import seaborn as sns\n",
    "from sklearn.feature_extraction.text import CountVectorizer, TfidfVectorizer\n",
    "\n",
    "from defaults import BOOK_RATINGS, BOOKS, USERS"
   ]
  },
  {
   "cell_type": "markdown",
   "metadata": {},
   "source": [
    "## Read the data"
   ]
  },
  {
   "cell_type": "code",
   "execution_count": null,
   "metadata": {},
   "outputs": [],
   "source": [
    "ratings = pd.read_csv(BOOK_RATINGS, sep=';')\n",
    "books = pd.read_csv(BOOKS, sep=';', error_bad_lines=False, index_col='ISBN')\n",
    "users = pd.read_csv(USERS, sep=';', index_col='User-ID')"
   ]
  },
  {
   "cell_type": "code",
   "execution_count": null,
   "metadata": {},
   "outputs": [],
   "source": [
    "print(\"#ratings: \", len(ratings))\n",
    "print(\"#books: \", len(books))\n",
    "print(\"#users: \", len(users))"
   ]
  },
  {
   "cell_type": "markdown",
   "metadata": {},
   "source": [
    "### Clean data"
   ]
  },
  {
   "cell_type": "code",
   "execution_count": null,
   "metadata": {},
   "outputs": [],
   "source": [
    "books = books.loc[pd.to_numeric(books['Year-Of-Publication'], errors='coerce').dropna().index]\n",
    "books['Year-Of-Publication'] = books['Year-Of-Publication'].astype(int)\n",
    "\n",
    "books_ratings_joined = pd.merge(ratings, books, left_on='ISBN', right_on='ISBN', how='left')\n",
    "books['n_ratings'] = books_ratings_joined.groupby('ISBN')['Book-Rating'].size()\n",
    "books['avg_rating'] = books_ratings_joined.groupby('ISBN')['Book-Rating'].mean()\n",
    "books['n_ratings'].fillna(0, inplace=True)\n",
    "books['books'].fillna(0, inplace=True)"
   ]
  },
  {
   "cell_type": "markdown",
   "metadata": {},
   "source": [
    "#### Calculate average score based on IMBD formula"
   ]
  },
  {
   "cell_type": "code",
   "execution_count": null,
   "metadata": {},
   "outputs": [],
   "source": [
    "C = books['avg_rating'].mean()\n",
    "m = books['n_ratings'].quantile(0.90)"
   ]
  },
  {
   "cell_type": "markdown",
   "metadata": {},
   "source": [
    "Function that computes the weighted rating of each movie"
   ]
  },
  {
   "cell_type": "code",
   "execution_count": null,
   "metadata": {},
   "outputs": [],
   "source": [
    "def weighted_rating(x, m=m, C=C):\n",
    "    v = x['n_ratings']\n",
    "    R = x['avg_rating']\n",
    "    return (v/(v+m) * R) + (m/(m+v) * C)"
   ]
  },
  {
   "cell_type": "code",
   "execution_count": null,
   "metadata": {},
   "outputs": [],
   "source": [
    "books['score'] = books.apply(weighted_rating, axis=1)"
   ]
  },
  {
   "cell_type": "code",
   "execution_count": null,
   "metadata": {},
   "outputs": [],
   "source": [
    "books[list(books.columns[:4]) + list(books.columns[-3:])].head()"
   ]
  },
  {
   "cell_type": "markdown",
   "metadata": {},
   "source": [
    "Books users ratings"
   ]
  },
  {
   "cell_type": "code",
   "execution_count": null,
   "metadata": {},
   "outputs": [],
   "source": [
    "books_ratings = books[list(books.columns[:4]) + list(books.columns[-3:])].reset_index().merge(ratings, on='ISBN', how='left')\n",
    "books_ratings.head()"
   ]
  },
  {
   "cell_type": "code",
   "execution_count": null,
   "metadata": {},
   "outputs": [],
   "source": [
    "books_ratings.shape"
   ]
  },
  {
   "cell_type": "markdown",
   "metadata": {},
   "source": [
    "## Peek data"
   ]
  },
  {
   "cell_type": "code",
   "execution_count": null,
   "metadata": {},
   "outputs": [],
   "source": [
    "books.head()"
   ]
  },
  {
   "cell_type": "markdown",
   "metadata": {},
   "source": [
    "## Content based recommendation"
   ]
  },
  {
   "cell_type": "markdown",
   "metadata": {},
   "source": [
    "A content-based recommender works with data that the user provides, either explicitly (rating) or implicitly (clicking on a link). Based on that data, a user profile is generated, which is then used to make suggestions to the user. As the user provides more inputs or takes actions on those recommendations, the engine becomes more and more accurate.\n",
    "\n",
    "A recommender system has to decide between two methods for information delivery when providing the user with recommendations:\n",
    " - Exploitation. The system chooses documents similar to those for which the user has already expressed a preference.\n",
    " - Exploration. The system chooses documents where the user profile does not provide evidence to predict the user’s reaction."
   ]
  },
  {
   "cell_type": "code",
   "execution_count": null,
   "metadata": {},
   "outputs": [],
   "source": [
    "data = books[list(books.columns[:4]) + list(books.columns[-3:])]\n",
    "data = data.reset_index()\n",
    "data.head()"
   ]
  },
  {
   "cell_type": "code",
   "execution_count": null,
   "metadata": {},
   "outputs": [],
   "source": [
    "def get_book_text_desc(book: pd.Series) -> str:\n",
    "    try:\n",
    "        return book['Book-Title'] + ' ' + ''.join(book['Book-Author'].split()) + ' ' + str(book['Year-Of-Publication']) + ' ' + ''.join(book['Publisher'].split())\n",
    "    except:\n",
    "        print(book)"
   ]
  },
  {
   "cell_type": "code",
   "execution_count": null,
   "metadata": {},
   "outputs": [],
   "source": [
    "data.loc[:, 'Book-Desc'] = data.copy().fillna('').apply(get_book_text_desc, axis=1)\n",
    "data = data.dropna(subset=['Book-Desc'])"
   ]
  },
  {
   "cell_type": "code",
   "execution_count": null,
   "metadata": {},
   "outputs": [],
   "source": [
    "data.head()"
   ]
  },
  {
   "cell_type": "code",
   "execution_count": null,
   "metadata": {},
   "outputs": [],
   "source": [
    "class ContentBasedRecomennder:\n",
    "    def __init__(self, data, fit_col):\n",
    "        self._data = data\n",
    "        self._fit_col = fit_col\n",
    "        \n",
    "    def fit(self, **cv_params):\n",
    "        self._cv = TfidfVectorizer(**cv_params)\n",
    "        self._cv_matrix = self._cv.fit_transform(data[self._fit_col])\n",
    "        \n",
    "    def recommend(self, book_title: str, top_n: int):\n",
    "        indices = pd.Series(self._data.index, index=self._data['Book-Title'])\n",
    "        book_idx = indices[book_title]\n",
    "        if isinstance(book_idx, pd.Series):\n",
    "            book_idx = book_idx.values\n",
    "        else:\n",
    "            book_idx = [book_idx]\n",
    "        for idx in book_idx:\n",
    "            cosine_similarities = np.array(cosine_similarity(self._cv_matrix[idx], self._cv_matrix))\n",
    "            max_indices = cosine_similarities.argsort().flatten()\n",
    "            max_indices = max_indices[-top_n:]\n",
    "            max_indices = max_indices[::-1]\n",
    "            max_similarities = np.sort(cosine_similarities).flatten()\n",
    "            max_similarities = max_similarities[-top_n:]\n",
    "            max_similarities = max_similarities[::-1]\n",
    "            print(f\"Most similar to {book_title} (ISBN: {self._data.iloc[idx]['ISBN']}) are following:\\n\")\n",
    "            for i, (max_idx, max_sim) in enumerate(zip(max_indices, max_similarities)):\n",
    "                book = self._data.iloc[max_idx]\n",
    "                print(f\"{i+1}. ({round(max_sim, 2)}) - {book['Book-Title']}, {book['Book-Author']}, {str(book['Year-Of-Publication'])}, {book['Publisher']}, ISBN: {book['ISBN']}\")\n",
    "                print(f\"With average rating of {round(self._data.iloc[max_idx]['avg_rating'], 2)} rated by {self._data.iloc[max_idx]['avg_rating']} users.\\n\")\n",
    "            print(\"====================================================\")"
   ]
  },
  {
   "cell_type": "code",
   "execution_count": null,
   "metadata": {},
   "outputs": [],
   "source": [
    "recommender = ContentBasedRecomennder(data, 'Book-Desc')\n",
    "recommender.fit()"
   ]
  },
  {
   "cell_type": "code",
   "execution_count": null,
   "metadata": {},
   "outputs": [],
   "source": [
    "data[data['Book-Author'] == \"Carlo D'Este\"]"
   ]
  },
  {
   "cell_type": "code",
   "execution_count": null,
   "metadata": {},
   "outputs": [],
   "source": [
    "recommender.recommend('Decision in Normandy', 5)"
   ]
  },
  {
   "cell_type": "code",
   "execution_count": null,
   "metadata": {},
   "outputs": [],
   "source": []
  }
 ],
 "metadata": {
  "kernelspec": {
   "display_name": "Python [conda env:recommendation_systems]",
   "language": "python",
   "name": "conda-env-recommendation_systems-py"
  },
  "language_info": {
   "codemirror_mode": {
    "name": "ipython",
    "version": 3
   },
   "file_extension": ".py",
   "mimetype": "text/x-python",
   "name": "python",
   "nbconvert_exporter": "python",
   "pygments_lexer": "ipython3",
   "version": "3.8.8"
  }
 },
 "nbformat": 4,
 "nbformat_minor": 4
}
